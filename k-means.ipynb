{
 "cells": [
  {
   "cell_type": "code",
   "execution_count": 1,
   "metadata": {},
   "outputs": [
    {
     "name": "stdout",
     "output_type": "stream",
     "text": [
      "Hii\n"
     ]
    }
   ],
   "source": [
    "print(\"Hii\")"
   ]
  },
  {
   "cell_type": "code",
   "execution_count": 2,
   "metadata": {},
   "outputs": [
    {
     "name": "stdout",
     "output_type": "stream",
     "text": [
      "   Openness  Conscientiousness  Extraversion  Agreeableness  Neuroticism  \\\n",
      "0        75                 60            55             65           45   \n",
      "1        60                 70            50             55           50   \n",
      "2        85                 55            75             60           35   \n",
      "3        45                 80            40             70           60   \n",
      "4        50                 65            35             75           70   \n",
      "\n",
      "   Cluster  \n",
      "0        2  \n",
      "1        0  \n",
      "2        2  \n",
      "3        1  \n",
      "4        1  \n",
      "   Cluster                             Recommended Profession\n",
      "0        2  People-oriented professions (Teacher, Psycholo...\n",
      "1        0            Creative professions (Artist, Designer)\n",
      "2        2  People-oriented professions (Teacher, Psycholo...\n",
      "3        1  Analytical professions (Engineer, Data Scientist)\n",
      "4        1  Analytical professions (Engineer, Data Scientist)\n"
     ]
    }
   ],
   "source": [
    "import pandas as pd\n",
    "from sklearn.cluster import KMeans\n",
    "from sklearn.preprocessing import StandardScaler\n",
    "import numpy as np\n",
    "import matplotlib.pyplot as plt\n",
    "\n",
    "# Sample user data with OCEAN values (Openness, Conscientiousness, Extraversion, Agreeableness, Neuroticism)\n",
    "user_data = pd.DataFrame({\n",
    "    'Openness': [75, 60, 85, 45, 50],\n",
    "    'Conscientiousness': [60, 70, 55, 80, 65],\n",
    "    'Extraversion': [55, 50, 75, 40, 35],\n",
    "    'Agreeableness': [65, 55, 60, 70, 75],\n",
    "    'Neuroticism': [45, 50, 35, 60, 70]\n",
    "})\n",
    "\n",
    "# Standardize the data to normalize it\n",
    "scaler = StandardScaler()\n",
    "scaled_data = scaler.fit_transform(user_data)\n",
    "\n",
    "# Apply K-Means clustering\n",
    "kmeans = KMeans(n_clusters=3, random_state=42)\n",
    "kmeans.fit(scaled_data)\n",
    "\n",
    "# Assign cluster labels to each user\n",
    "user_data['Cluster'] = kmeans.labels_\n",
    "\n",
    "print(user_data)\n",
    "\n",
    "# Example of mapping clusters to professions\n",
    "cluster_professions = {\n",
    "    0: \"Creative professions (Artist, Designer)\",\n",
    "    1: \"Analytical professions (Engineer, Data Scientist)\",\n",
    "    2: \"People-oriented professions (Teacher, Psychologist)\"\n",
    "}\n",
    "\n",
    "# Recommend a profession based on the user's cluster\n",
    "user_data['Recommended Profession'] = user_data['Cluster'].map(cluster_professions)\n",
    "\n",
    "print(user_data[['Cluster', 'Recommended Profession']])\n"
   ]
  },
  {
   "cell_type": "code",
   "execution_count": 6,
   "metadata": {},
   "outputs": [
    {
     "ename": "TypeError",
     "evalue": "'module' object is not callable",
     "output_type": "error",
     "traceback": [
      "\u001b[0;31m---------------------------------------------------------------------------\u001b[0m",
      "\u001b[0;31mTypeError\u001b[0m                                 Traceback (most recent call last)",
      "Cell \u001b[0;32mIn[6], line 18\u001b[0m\n\u001b[1;32m     16\u001b[0m kmeans \u001b[38;5;241m=\u001b[39m KMeans(n_clusters\u001b[38;5;241m=\u001b[39m\u001b[38;5;241m3\u001b[39m)\n\u001b[1;32m     17\u001b[0m kmeans\u001b[38;5;241m.\u001b[39mfit(X)\n\u001b[0;32m---> 18\u001b[0m \u001b[43mplt\u001b[49m\u001b[43m(\u001b[49m\u001b[43mkmeans\u001b[49m\u001b[43m)\u001b[49m\n\u001b[1;32m     19\u001b[0m labels \u001b[38;5;241m=\u001b[39m kmeans\u001b[38;5;241m.\u001b[39mlabels_  \u001b[38;5;66;03m# Get cluster labels\u001b[39;00m\n\u001b[1;32m     20\u001b[0m \u001b[38;5;28mprint\u001b[39m(X\u001b[38;5;241m.\u001b[39mtolist(),\u001b[38;5;124m\"\u001b[39m\u001b[38;5;124m : \u001b[39m\u001b[38;5;124m\"\u001b[39m,labels\u001b[38;5;241m.\u001b[39mtolist())\n",
      "\u001b[0;31mTypeError\u001b[0m: 'module' object is not callable"
     ]
    }
   ],
   "source": [
    "import numpy as np\n",
    "from sklearn.cluster import KMeans, DBSCAN\n",
    "import matplotlib.pyplot as plt\n",
    "# Example user OCEAN + Facet data (6 facets per dimension)\n",
    "user_data = [\n",
    "    [60, 65, 70, 55, 60, 50],  # Openness\n",
    "    [80, 85, 75, 90, 70, 65],  # Conscientiousness\n",
    "    [50, 55, 60, 65, 55, 70],  # Extraversion\n",
    "    [40, 45, 50, 60, 65, 70],  # Agreeableness\n",
    "    [70, 75, 80, 85, 90, 95],  # Neuroticism\n",
    "]\n",
    "\n",
    "# Flatten the data so each user has 30 features (5x6)\n",
    "X = np.array([user_data[i] for i in range(len(user_data))])\n",
    "# Apply clustering (K-Means for example)\n",
    "kmeans = KMeans(n_clusters=3)\n",
    "kmeans.fit(X)\n",
    "\n",
    "labels = kmeans.labels_  # Get cluster labels"
   ]
  }
 ],
 "metadata": {
  "kernelspec": {
   "display_name": "Python 3",
   "language": "python",
   "name": "python3"
  },
  "language_info": {
   "codemirror_mode": {
    "name": "ipython",
    "version": 3
   },
   "file_extension": ".py",
   "mimetype": "text/x-python",
   "name": "python",
   "nbconvert_exporter": "python",
   "pygments_lexer": "ipython3",
   "version": "3.10.12"
  }
 },
 "nbformat": 4,
 "nbformat_minor": 2
}
